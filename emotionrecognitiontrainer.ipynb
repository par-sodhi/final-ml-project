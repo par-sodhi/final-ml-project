{
 "cells": [
  {
   "cell_type": "code",
   "execution_count": 1,
   "id": "9dc9cfe8-c8c5-4cf1-96c1-48825ca03c32",
   "metadata": {},
   "outputs": [
    {
     "name": "stderr",
     "output_type": "stream",
     "text": [
      "2023-12-08 22:37:35.766406: E external/local_xla/xla/stream_executor/cuda/cuda_dnn.cc:9261] Unable to register cuDNN factory: Attempting to register factory for plugin cuDNN when one has already been registered\n",
      "2023-12-08 22:37:35.766423: E external/local_xla/xla/stream_executor/cuda/cuda_fft.cc:607] Unable to register cuFFT factory: Attempting to register factory for plugin cuFFT when one has already been registered\n",
      "2023-12-08 22:37:35.767167: E external/local_xla/xla/stream_executor/cuda/cuda_blas.cc:1515] Unable to register cuBLAS factory: Attempting to register factory for plugin cuBLAS when one has already been registered\n",
      "2023-12-08 22:37:35.771625: I tensorflow/core/platform/cpu_feature_guard.cc:182] This TensorFlow binary is optimized to use available CPU instructions in performance-critical operations.\n",
      "To enable the following instructions: AVX2 FMA, in other operations, rebuild TensorFlow with the appropriate compiler flags.\n",
      "2023-12-08 22:37:36.397661: W tensorflow/compiler/tf2tensorrt/utils/py_utils.cc:38] TF-TRT Warning: Could not find TensorRT\n"
     ]
    }
   ],
   "source": [
    "from keras.utils import to_categorical\n",
    "from keras_preprocessing.image import load_img\n",
    "from keras.models import Sequential, model_from_json\n",
    "from keras.layers import Dense, Conv2D, Dropout, Flatten, MaxPooling2D\n",
    "from keras.callbacks import EarlyStopping, ModelCheckpoint\n",
    "from keras.optimizers import Adam\n",
    "import os\n",
    "import pandas as pd\n",
    "import numpy as np"
   ]
  },
  {
   "cell_type": "markdown",
   "id": "f5a4009a-fe34-41ac-9d76-07839ab53192",
   "metadata": {},
   "source": [
    "Checking if the GPU is available to use"
   ]
  },
  {
   "cell_type": "code",
   "execution_count": 2,
   "id": "b30e2f1d-2c5b-4323-b8ab-0b853fbd18d1",
   "metadata": {},
   "outputs": [
    {
     "name": "stdout",
     "output_type": "stream",
     "text": [
      "GPUs Available:  1\n"
     ]
    },
    {
     "name": "stderr",
     "output_type": "stream",
     "text": [
      "2023-12-08 22:37:37.151109: I external/local_xla/xla/stream_executor/cuda/cuda_executor.cc:901] successful NUMA node read from SysFS had negative value (-1), but there must be at least one NUMA node, so returning NUMA node zero. See more at https://github.com/torvalds/linux/blob/v6.0/Documentation/ABI/testing/sysfs-bus-pci#L344-L355\n",
      "2023-12-08 22:37:37.172830: I external/local_xla/xla/stream_executor/cuda/cuda_executor.cc:901] successful NUMA node read from SysFS had negative value (-1), but there must be at least one NUMA node, so returning NUMA node zero. See more at https://github.com/torvalds/linux/blob/v6.0/Documentation/ABI/testing/sysfs-bus-pci#L344-L355\n",
      "2023-12-08 22:37:37.173074: I external/local_xla/xla/stream_executor/cuda/cuda_executor.cc:901] successful NUMA node read from SysFS had negative value (-1), but there must be at least one NUMA node, so returning NUMA node zero. See more at https://github.com/torvalds/linux/blob/v6.0/Documentation/ABI/testing/sysfs-bus-pci#L344-L355\n"
     ]
    }
   ],
   "source": [
    "import tensorflow as tf\n",
    "print(\"GPUs Available: \", len(tf.config.list_physical_devices('GPU')))"
   ]
  },
  {
   "cell_type": "markdown",
   "id": "2ce62634-3924-4570-8d3c-5a715b495415",
   "metadata": {},
   "source": [
    "This function serves as a data preparation step, converting raw image data into a structured format"
   ]
  },
  {
   "cell_type": "code",
   "execution_count": 3,
   "id": "04fa45a5-6adc-4ed7-90f5-1edc9880a3a7",
   "metadata": {},
   "outputs": [],
   "source": [
    "def createdataframe(dir):\n",
    "    image_paths = []\n",
    "    labels = []\n",
    "    for label in os.listdir(dir):\n",
    "        for imagename in os.listdir(os.path.join(dir,label)):\n",
    "            image_paths.append(os.path.join(dir,label,imagename))\n",
    "            labels.append(label)\n",
    "        print(label, \"completed\")\n",
    "    return image_paths,labels"
   ]
  },
  {
   "cell_type": "code",
   "execution_count": 4,
   "id": "2efb08b2-c8ca-4927-a4f2-34d81c05504b",
   "metadata": {},
   "outputs": [
    {
     "name": "stdout",
     "output_type": "stream",
     "text": [
      "Full Path: /home/adafrice/FACE_EMOTION_RECOGNITION/FACE_EMOTION_RECOGNITION/FACE_EMOTION_RECOGNITION/images/train\n"
     ]
    }
   ],
   "source": [
    "#Testing to understand the path\n",
    "import os\n",
    "directory_name = 'images/train'\n",
    "full_path = os.path.abspath(directory_name)\n",
    "print(\"Full Path:\", full_path)"
   ]
  },
  {
   "cell_type": "code",
   "execution_count": 5,
   "id": "92965e10-a956-4656-bfe4-71e794e6d000",
   "metadata": {},
   "outputs": [
    {
     "name": "stdout",
     "output_type": "stream",
     "text": [
      "neutral completed\n",
      "surprise completed\n",
      "sad completed\n",
      "angry completed\n",
      "happy completed\n",
      "disgust completed\n",
      "fear completed\n"
     ]
    }
   ],
   "source": [
    "train = pd.DataFrame()\n",
    "train['image'], train['label'] = createdataframe('images/train')"
   ]
  },
  {
   "cell_type": "code",
   "execution_count": 6,
   "id": "47d46275-e1f1-4d9a-9719-c0e2d51cb78f",
   "metadata": {},
   "outputs": [
    {
     "name": "stdout",
     "output_type": "stream",
     "text": [
      "neutral completed\n",
      "surprise completed\n",
      "sad completed\n",
      "angry completed\n",
      "happy completed\n",
      "disgust completed\n",
      "fear completed\n"
     ]
    }
   ],
   "source": [
    "valid = pd.DataFrame()\n",
    "valid['image'], valid['label'] = createdataframe('images/validation')"
   ]
  },
  {
   "cell_type": "code",
   "execution_count": 7,
   "id": "a8e394e2-cd3c-4abb-97e0-0751c53b86ad",
   "metadata": {},
   "outputs": [
    {
     "name": "stdout",
     "output_type": "stream",
     "text": [
      "                                image    label\n",
      "0      images/train/neutral/35503.jpg  neutral\n",
      "1       images/train/neutral/2452.jpg  neutral\n",
      "2      images/train/neutral/28187.jpg  neutral\n",
      "3      images/train/neutral/22436.jpg  neutral\n",
      "4      images/train/neutral/28747.jpg  neutral\n",
      "...                               ...      ...\n",
      "28816      images/train/fear/7605.jpg     fear\n",
      "28817     images/train/fear/28244.jpg     fear\n",
      "28818     images/train/fear/20427.jpg     fear\n",
      "28819     images/train/fear/14602.jpg     fear\n",
      "28820      images/train/fear/1509.jpg     fear\n",
      "\n",
      "[28821 rows x 2 columns]\n",
      "                                    image    label\n",
      "0     images/validation/neutral/22886.jpg  neutral\n",
      "1      images/validation/neutral/1339.jpg  neutral\n",
      "2     images/validation/neutral/33471.jpg  neutral\n",
      "3     images/validation/neutral/18208.jpg  neutral\n",
      "4     images/validation/neutral/14550.jpg  neutral\n",
      "...                                   ...      ...\n",
      "7061     images/validation/fear/31157.jpg     fear\n",
      "7062     images/validation/fear/23791.jpg     fear\n",
      "7063     images/validation/fear/13587.jpg     fear\n",
      "7064     images/validation/fear/26385.jpg     fear\n",
      "7065     images/validation/fear/27709.jpg     fear\n",
      "\n",
      "[7066 rows x 2 columns]\n"
     ]
    }
   ],
   "source": [
    "print(train)\n",
    "print(valid)"
   ]
  },
  {
   "cell_type": "code",
   "execution_count": 8,
   "id": "8a108226-d943-4c5c-b19f-47ce5d1b3a5a",
   "metadata": {},
   "outputs": [],
   "source": [
    "from tqdm.notebook import tqdm"
   ]
  },
  {
   "cell_type": "markdown",
   "id": "a974cf16-e684-41ee-a753-64e0c2b4ed67",
   "metadata": {},
   "source": [
    "This function prepares image data for machine learning by loading, converting, and reshaping the images into a format suitable for input into a model. The extracted features are organized into a NumPy array, where each image is represented as a 48x48 matrix with a single channel."
   ]
  },
  {
   "cell_type": "code",
   "execution_count": 9,
   "id": "8fd29c6b-e0f9-447e-8e58-b31b3a1d90aa",
   "metadata": {},
   "outputs": [],
   "source": [
    "def extract_features(images):\n",
    "    features = []\n",
    "    for image in tqdm(images):\n",
    "        features.append(np.array(load_img(image,color_mode=\"grayscale\")))\n",
    "    features = np.array(features)\n",
    "    features = features.reshape(len(features),48,48,1)\n",
    "    return features"
   ]
  },
  {
   "cell_type": "code",
   "execution_count": 10,
   "id": "1fe8335f-a434-456b-b51e-1d4bde470fae",
   "metadata": {},
   "outputs": [
    {
     "data": {
      "application/vnd.jupyter.widget-view+json": {
       "model_id": "a82c6c8c9b354f85bb0959cf5d942528",
       "version_major": 2,
       "version_minor": 0
      },
      "text/plain": [
       "  0%|          | 0/28821 [00:00<?, ?it/s]"
      ]
     },
     "metadata": {},
     "output_type": "display_data"
    },
    {
     "data": {
      "application/vnd.jupyter.widget-view+json": {
       "model_id": "5a3f0ee74d774adb9a235ecf02ad2f6a",
       "version_major": 2,
       "version_minor": 0
      },
      "text/plain": [
       "  0%|          | 0/7066 [00:00<?, ?it/s]"
      ]
     },
     "metadata": {},
     "output_type": "display_data"
    }
   ],
   "source": [
    "train_features = extract_features(train['image']) \n",
    "valid_features = extract_features(valid['image'])"
   ]
  },
  {
   "cell_type": "code",
   "execution_count": 11,
   "id": "9b879804-0269-4774-928e-91ee02e074fd",
   "metadata": {},
   "outputs": [],
   "source": [
    "x_train = train_features/255.0\n",
    "x_valid = valid_features/255.0"
   ]
  },
  {
   "cell_type": "code",
   "execution_count": 12,
   "id": "38df4ac1-c10e-4cc0-b984-58cb72b9e550",
   "metadata": {},
   "outputs": [
    {
     "data": {
      "text/html": [
       "<style>#sk-container-id-1 {color: black;}#sk-container-id-1 pre{padding: 0;}#sk-container-id-1 div.sk-toggleable {background-color: white;}#sk-container-id-1 label.sk-toggleable__label {cursor: pointer;display: block;width: 100%;margin-bottom: 0;padding: 0.3em;box-sizing: border-box;text-align: center;}#sk-container-id-1 label.sk-toggleable__label-arrow:before {content: \"▸\";float: left;margin-right: 0.25em;color: #696969;}#sk-container-id-1 label.sk-toggleable__label-arrow:hover:before {color: black;}#sk-container-id-1 div.sk-estimator:hover label.sk-toggleable__label-arrow:before {color: black;}#sk-container-id-1 div.sk-toggleable__content {max-height: 0;max-width: 0;overflow: hidden;text-align: left;background-color: #f0f8ff;}#sk-container-id-1 div.sk-toggleable__content pre {margin: 0.2em;color: black;border-radius: 0.25em;background-color: #f0f8ff;}#sk-container-id-1 input.sk-toggleable__control:checked~div.sk-toggleable__content {max-height: 200px;max-width: 100%;overflow: auto;}#sk-container-id-1 input.sk-toggleable__control:checked~label.sk-toggleable__label-arrow:before {content: \"▾\";}#sk-container-id-1 div.sk-estimator input.sk-toggleable__control:checked~label.sk-toggleable__label {background-color: #d4ebff;}#sk-container-id-1 div.sk-label input.sk-toggleable__control:checked~label.sk-toggleable__label {background-color: #d4ebff;}#sk-container-id-1 input.sk-hidden--visually {border: 0;clip: rect(1px 1px 1px 1px);clip: rect(1px, 1px, 1px, 1px);height: 1px;margin: -1px;overflow: hidden;padding: 0;position: absolute;width: 1px;}#sk-container-id-1 div.sk-estimator {font-family: monospace;background-color: #f0f8ff;border: 1px dotted black;border-radius: 0.25em;box-sizing: border-box;margin-bottom: 0.5em;}#sk-container-id-1 div.sk-estimator:hover {background-color: #d4ebff;}#sk-container-id-1 div.sk-parallel-item::after {content: \"\";width: 100%;border-bottom: 1px solid gray;flex-grow: 1;}#sk-container-id-1 div.sk-label:hover label.sk-toggleable__label {background-color: #d4ebff;}#sk-container-id-1 div.sk-serial::before {content: \"\";position: absolute;border-left: 1px solid gray;box-sizing: border-box;top: 0;bottom: 0;left: 50%;z-index: 0;}#sk-container-id-1 div.sk-serial {display: flex;flex-direction: column;align-items: center;background-color: white;padding-right: 0.2em;padding-left: 0.2em;position: relative;}#sk-container-id-1 div.sk-item {position: relative;z-index: 1;}#sk-container-id-1 div.sk-parallel {display: flex;align-items: stretch;justify-content: center;background-color: white;position: relative;}#sk-container-id-1 div.sk-item::before, #sk-container-id-1 div.sk-parallel-item::before {content: \"\";position: absolute;border-left: 1px solid gray;box-sizing: border-box;top: 0;bottom: 0;left: 50%;z-index: -1;}#sk-container-id-1 div.sk-parallel-item {display: flex;flex-direction: column;z-index: 1;position: relative;background-color: white;}#sk-container-id-1 div.sk-parallel-item:first-child::after {align-self: flex-end;width: 50%;}#sk-container-id-1 div.sk-parallel-item:last-child::after {align-self: flex-start;width: 50%;}#sk-container-id-1 div.sk-parallel-item:only-child::after {width: 0;}#sk-container-id-1 div.sk-dashed-wrapped {border: 1px dashed gray;margin: 0 0.4em 0.5em 0.4em;box-sizing: border-box;padding-bottom: 0.4em;background-color: white;}#sk-container-id-1 div.sk-label label {font-family: monospace;font-weight: bold;display: inline-block;line-height: 1.2em;}#sk-container-id-1 div.sk-label-container {text-align: center;}#sk-container-id-1 div.sk-container {/* jupyter's `normalize.less` sets `[hidden] { display: none; }` but bootstrap.min.css set `[hidden] { display: none !important; }` so we also need the `!important` here to be able to override the default hidden behavior on the sphinx rendered scikit-learn.org. See: https://github.com/scikit-learn/scikit-learn/issues/21755 */display: inline-block !important;position: relative;}#sk-container-id-1 div.sk-text-repr-fallback {display: none;}</style><div id=\"sk-container-id-1\" class=\"sk-top-container\"><div class=\"sk-text-repr-fallback\"><pre>LabelEncoder()</pre><b>In a Jupyter environment, please rerun this cell to show the HTML representation or trust the notebook. <br />On GitHub, the HTML representation is unable to render, please try loading this page with nbviewer.org.</b></div><div class=\"sk-container\" hidden><div class=\"sk-item\"><div class=\"sk-estimator sk-toggleable\"><input class=\"sk-toggleable__control sk-hidden--visually\" id=\"sk-estimator-id-1\" type=\"checkbox\" checked><label for=\"sk-estimator-id-1\" class=\"sk-toggleable__label sk-toggleable__label-arrow\">LabelEncoder</label><div class=\"sk-toggleable__content\"><pre>LabelEncoder()</pre></div></div></div></div></div>"
      ],
      "text/plain": [
       "LabelEncoder()"
      ]
     },
     "execution_count": 12,
     "metadata": {},
     "output_type": "execute_result"
    }
   ],
   "source": [
    "from sklearn.preprocessing import LabelEncoder\n",
    "le = LabelEncoder()\n",
    "le.fit(train['label'])"
   ]
  },
  {
   "cell_type": "code",
   "execution_count": 13,
   "id": "cd1b081a-c50e-4b36-b7d9-53bbbd29a2fc",
   "metadata": {},
   "outputs": [],
   "source": [
    "y_train = le.transform(train['label'])\n",
    "y_valid = le.transform(valid['label'])"
   ]
  },
  {
   "cell_type": "code",
   "execution_count": 14,
   "id": "fcb81ec9-e953-4d03-9fa7-0ff654b6a2a8",
   "metadata": {},
   "outputs": [],
   "source": [
    "# Convert class labels in y_train and y_valid to one-hot encoded format\n",
    "y_train = to_categorical(y_train,num_classes = 7)\n",
    "y_valid = to_categorical(y_valid,num_classes = 7)"
   ]
  },
  {
   "cell_type": "code",
   "execution_count": 15,
   "id": "b30e5b1a-f189-4ffb-b694-6ae6ec57bbbe",
   "metadata": {},
   "outputs": [],
   "source": [
    "from sklearn.model_selection import train_test_split\n",
    "x_train, x_test, y_train, y_test = train_test_split(x_train, y_train, test_size=0.2)"
   ]
  },
  {
   "cell_type": "markdown",
   "id": "96f2ef5e-e68b-43bd-8ca0-c20483153657",
   "metadata": {},
   "source": [
    "This is a convolutional neural network (CNN) model using the Keras library with a TensorFlow backend. There are four convolutional layers that we have talked about in lecture. After the convolutional layers, a flattening layer is added to flatten the multi-dimensional output into a one-dimensional array, preparing it for the fully connected layers."
   ]
  },
  {
   "cell_type": "code",
   "execution_count": 16,
   "id": "ca832f92-bcb8-453a-981a-9818c577d106",
   "metadata": {},
   "outputs": [
    {
     "name": "stderr",
     "output_type": "stream",
     "text": [
      "2023-12-08 22:37:40.877628: I external/local_xla/xla/stream_executor/cuda/cuda_executor.cc:901] successful NUMA node read from SysFS had negative value (-1), but there must be at least one NUMA node, so returning NUMA node zero. See more at https://github.com/torvalds/linux/blob/v6.0/Documentation/ABI/testing/sysfs-bus-pci#L344-L355\n",
      "2023-12-08 22:37:40.877852: I external/local_xla/xla/stream_executor/cuda/cuda_executor.cc:901] successful NUMA node read from SysFS had negative value (-1), but there must be at least one NUMA node, so returning NUMA node zero. See more at https://github.com/torvalds/linux/blob/v6.0/Documentation/ABI/testing/sysfs-bus-pci#L344-L355\n",
      "2023-12-08 22:37:40.877971: I external/local_xla/xla/stream_executor/cuda/cuda_executor.cc:901] successful NUMA node read from SysFS had negative value (-1), but there must be at least one NUMA node, so returning NUMA node zero. See more at https://github.com/torvalds/linux/blob/v6.0/Documentation/ABI/testing/sysfs-bus-pci#L344-L355\n",
      "2023-12-08 22:37:40.927348: I external/local_xla/xla/stream_executor/cuda/cuda_executor.cc:901] successful NUMA node read from SysFS had negative value (-1), but there must be at least one NUMA node, so returning NUMA node zero. See more at https://github.com/torvalds/linux/blob/v6.0/Documentation/ABI/testing/sysfs-bus-pci#L344-L355\n",
      "2023-12-08 22:37:40.927480: I external/local_xla/xla/stream_executor/cuda/cuda_executor.cc:901] successful NUMA node read from SysFS had negative value (-1), but there must be at least one NUMA node, so returning NUMA node zero. See more at https://github.com/torvalds/linux/blob/v6.0/Documentation/ABI/testing/sysfs-bus-pci#L344-L355\n",
      "2023-12-08 22:37:40.927583: I external/local_xla/xla/stream_executor/cuda/cuda_executor.cc:901] successful NUMA node read from SysFS had negative value (-1), but there must be at least one NUMA node, so returning NUMA node zero. See more at https://github.com/torvalds/linux/blob/v6.0/Documentation/ABI/testing/sysfs-bus-pci#L344-L355\n",
      "2023-12-08 22:37:40.927734: I tensorflow/core/common_runtime/gpu/gpu_device.cc:1929] Created device /job:localhost/replica:0/task:0/device:GPU:0 with 2791 MB memory:  -> device: 0, name: NVIDIA GeForce GTX 1650 Ti, pci bus id: 0000:01:00.0, compute capability: 7.5\n"
     ]
    }
   ],
   "source": [
    "model = Sequential([\n",
    "    #four convolutional layers for our model\n",
    "    Conv2D(128, kernel_size=(3,3), activation='relu', input_shape=(48,48,1)),\n",
    "    MaxPooling2D(pool_size=(2,2), strides=2),\n",
    "\n",
    "    Conv2D(256, kernel_size=(3,3), activation='relu', padding='same'),\n",
    "    MaxPooling2D(pool_size=(2,2), strides=2),\n",
    "\n",
    "    Conv2D(512, kernel_size=(3,3), activation='relu', padding='same'),\n",
    "    MaxPooling2D(pool_size=(2,2), strides=2),\n",
    "\n",
    "    Conv2D(512, kernel_size=(3,3), activation='relu', padding='same'),\n",
    "    MaxPooling2D(pool_size=(2,2), strides=2),\n",
    "\n",
    "    Flatten(),\n",
    "    Dense(512, activation='relu'),\n",
    "    Dropout(0.4),\n",
    "    Dense(256, activation='relu'),\n",
    "    Dropout(0.3),\n",
    "    Dense(7, activation='softmax')\n",
    "])"
   ]
  },
  {
   "cell_type": "markdown",
   "id": "3f6a875d-38df-4a13-9a93-ce0584b9e0b7",
   "metadata": {},
   "source": [
    "To prevent overfitting and enhance efficiency, early stopping is employed. The early stopping mechanism restores the model weights from the end of the best epoch."
   ]
  },
  {
   "cell_type": "code",
   "execution_count": 17,
   "id": "6f8d484c-020c-4251-bd61-51316e47f046",
   "metadata": {},
   "outputs": [],
   "source": [
    "es_callback = EarlyStopping(monitor='val_loss', patience=3, verbose=1, restore_best_weights=True, mode='min')\n",
    "cp_callback = ModelCheckpoint(monitor='val_loss', save_best_only=True,\n",
    "                              save_weights_only=True, filepath='emotion_model.weights')\n",
    "#USing an adam optimizer\n",
    "optimizer = Adam(learning_rate=0.001)"
   ]
  },
  {
   "cell_type": "code",
   "execution_count": 18,
   "id": "5e5ffcc9-26e2-4178-8203-097efa55b670",
   "metadata": {},
   "outputs": [
    {
     "name": "stdout",
     "output_type": "stream",
     "text": [
      "Epoch 1/3000\n"
     ]
    },
    {
     "name": "stderr",
     "output_type": "stream",
     "text": [
      "2023-12-08 22:37:42.117987: I external/local_xla/xla/stream_executor/cuda/cuda_dnn.cc:454] Loaded cuDNN version 8902\n",
      "2023-12-08 22:37:45.171490: I external/local_xla/xla/service/service.cc:168] XLA service 0x7f02a51639c0 initialized for platform CUDA (this does not guarantee that XLA will be used). Devices:\n",
      "2023-12-08 22:37:45.171502: I external/local_xla/xla/service/service.cc:176]   StreamExecutor device (0): NVIDIA GeForce GTX 1650 Ti, Compute Capability 7.5\n",
      "2023-12-08 22:37:45.175947: I tensorflow/compiler/mlir/tensorflow/utils/dump_mlir_util.cc:269] disabling MLIR crash reproducer, set env var `MLIR_CRASH_REPRODUCER_DIRECTORY` to enable.\n",
      "WARNING: All log messages before absl::InitializeLog() is called are written to STDERR\n",
      "I0000 00:00:1702075065.253743   21567 device_compiler.h:186] Compiled cluster using XLA!  This line is logged at most once for the lifetime of the process.\n"
     ]
    },
    {
     "name": "stdout",
     "output_type": "stream",
     "text": [
      "181/181 [==============================] - 28s 109ms/step - loss: 1.8208 - accuracy: 0.2431 - val_loss: 1.7831 - val_accuracy: 0.2586\n",
      "Epoch 2/3000\n",
      "181/181 [==============================] - 17s 97ms/step - loss: 1.7501 - accuracy: 0.2692 - val_loss: 1.6425 - val_accuracy: 0.3491\n",
      "Epoch 3/3000\n",
      "181/181 [==============================] - 18s 97ms/step - loss: 1.5680 - accuracy: 0.3779 - val_loss: 1.4486 - val_accuracy: 0.4338\n",
      "Epoch 4/3000\n",
      "181/181 [==============================] - 18s 98ms/step - loss: 1.3674 - accuracy: 0.4673 - val_loss: 1.3315 - val_accuracy: 0.4898\n",
      "Epoch 5/3000\n",
      "181/181 [==============================] - 18s 98ms/step - loss: 1.2627 - accuracy: 0.5140 - val_loss: 1.2434 - val_accuracy: 0.5258\n",
      "Epoch 6/3000\n",
      "181/181 [==============================] - 18s 98ms/step - loss: 1.1747 - accuracy: 0.5491 - val_loss: 1.2026 - val_accuracy: 0.5501\n",
      "Epoch 7/3000\n",
      "181/181 [==============================] - 18s 98ms/step - loss: 1.0979 - accuracy: 0.5824 - val_loss: 1.2004 - val_accuracy: 0.5497\n",
      "Epoch 8/3000\n",
      "181/181 [==============================] - 18s 98ms/step - loss: 1.0184 - accuracy: 0.6128 - val_loss: 1.1992 - val_accuracy: 0.5606\n",
      "Epoch 9/3000\n",
      "181/181 [==============================] - 18s 97ms/step - loss: 0.9504 - accuracy: 0.6407 - val_loss: 1.2114 - val_accuracy: 0.5593\n",
      "Epoch 10/3000\n",
      "181/181 [==============================] - 18s 97ms/step - loss: 0.8625 - accuracy: 0.6767 - val_loss: 1.2409 - val_accuracy: 0.5672\n",
      "Epoch 11/3000\n",
      "180/181 [============================>.] - ETA: 0s - loss: 0.7749 - accuracy: 0.7107Restoring model weights from the end of the best epoch: 8.\n",
      "181/181 [==============================] - 18s 98ms/step - loss: 0.7749 - accuracy: 0.7107 - val_loss: 1.3231 - val_accuracy: 0.5575\n",
      "Epoch 11: early stopping\n"
     ]
    },
    {
     "data": {
      "text/plain": [
       "<keras.src.callbacks.History at 0x7f03a0345dd0>"
      ]
     },
     "execution_count": 18,
     "metadata": {},
     "output_type": "execute_result"
    }
   ],
   "source": [
    "model.compile(optimizer=optimizer, loss='categorical_crossentropy', metrics='accuracy' )\n",
    "model.fit(x= x_train, y=y_train, batch_size=128, epochs=3000,\n",
    "          validation_data=(x_valid,y_valid), callbacks=[es_callback, cp_callback])"
   ]
  },
  {
   "cell_type": "code",
   "execution_count": 19,
   "id": "a29169c0-3578-4961-b58a-9d766fd93a7a",
   "metadata": {},
   "outputs": [
    {
     "name": "stdout",
     "output_type": "stream",
     "text": [
      "181/181 [==============================] - 3s 10ms/step\n",
      "Accuracy: 0.5538595\n"
     ]
    }
   ],
   "source": [
    "from keras.metrics import CategoricalAccuracy\n",
    "category = CategoricalAccuracy()\n",
    "category.update_state(y_test, model.predict(x_test))\n",
    "print('Accuracy:', category.result().numpy())"
   ]
  },
  {
   "cell_type": "markdown",
   "id": "ebfc8e83-92d8-41f5-a147-d755ef672eea",
   "metadata": {},
   "source": [
    "Saving the models and weights we already have a presaved model so we just commented out how we saved our data."
   ]
  },
  {
   "cell_type": "code",
   "execution_count": 20,
   "id": "7a7bc684-a411-4347-a1e0-c9f4c99b332f",
   "metadata": {},
   "outputs": [
    {
     "data": {
      "text/plain": [
       "<tensorflow.python.checkpoint.checkpoint.CheckpointLoadStatus at 0x7f03a02b9e50>"
      ]
     },
     "execution_count": 20,
     "metadata": {},
     "output_type": "execute_result"
    }
   ],
   "source": [
    "model_json = model.to_json()\n",
    "with open(\"emotion_model.json\",'w') as json_file:\n",
    "    json_file.write(model_json)\n",
    "model.load_weights(\"emotion_model.weights\")"
   ]
  },
  {
   "cell_type": "code",
   "execution_count": 21,
   "id": "0ac70807-73dc-45d3-b077-1e719a2e8cd9",
   "metadata": {},
   "outputs": [],
   "source": [
    "label = ['angry','disgust','fear','happy','neutral','sad','surprise']"
   ]
  },
  {
   "cell_type": "code",
   "execution_count": 22,
   "id": "193fbaeb-7b45-46de-9ea5-c2942de9f5be",
   "metadata": {},
   "outputs": [],
   "source": [
    "def img_filepath(image):\n",
    "    feature = np.array(load_img(image, color_mode=\"grayscale\"))\n",
    "    feature = feature.reshape(1,48,48,1)\n",
    "    return feature/255.0"
   ]
  },
  {
   "cell_type": "markdown",
   "id": "074e310c-68d3-49a1-8702-99412f1aa2c5",
   "metadata": {},
   "source": [
    "Here we tried to see if we can replicate and see if our trained model actually works. I compare the actual answer to our prediciton."
   ]
  },
  {
   "cell_type": "code",
   "execution_count": 23,
   "id": "0690dc4f-655b-4aa8-a1ed-5639b8759561",
   "metadata": {},
   "outputs": [],
   "source": [
    "import matplotlib.pyplot as plt\n",
    "%matplotlib inline"
   ]
  },
  {
   "cell_type": "code",
   "execution_count": 24,
   "id": "5c2c42a5-bbd1-4f9e-9abb-e2e5a48cd140",
   "metadata": {},
   "outputs": [
    {
     "name": "stdout",
     "output_type": "stream",
     "text": [
      "The original is Sad\n",
      "1/1 [==============================] - 0s 355ms/step\n",
      "Our Model is  fear\n"
     ]
    },
    {
     "data": {
      "text/plain": [
       "<matplotlib.image.AxesImage at 0x7f029a676cd0>"
      ]
     },
     "execution_count": 24,
     "metadata": {},
     "output_type": "execute_result"
    },
    {
     "data": {
      "image/png": "[encoded data removed]",
      "text/plain": [
       "<Figure size 640x480 with 1 Axes>"
      ]
     },
     "metadata": {},
     "output_type": "display_data"
    }
   ],
   "source": [
    "image = 'images/train/sad/54.jpg'\n",
    "print(\"The original is Sad\")\n",
    "img = img_filepath(image)\n",
    "print(\"Our Model is \",label[model.predict(img).argmax()])\n",
    "plt.imshow(img.reshape(48,48),cmap='gray')"
   ]
  },
  {
   "cell_type": "code",
   "execution_count": 25,
   "id": "212dc9ec-df35-4b0b-a732-a843da96a1f6",
   "metadata": {},
   "outputs": [
    {
     "name": "stdout",
     "output_type": "stream",
     "text": [
      "The original is Fear\n",
      "1/1 [==============================] - 0s 13ms/step\n",
      "Our Model is  angry\n"
     ]
    },
    {
     "data": {
      "text/plain": [
       "<matplotlib.image.AxesImage at 0x7f029a563ad0>"
      ]
     },
     "execution_count": 25,
     "metadata": {},
     "output_type": "execute_result"
    },
    {
     "data": {
      "image/png": "[encoded data removed]",
      "text/plain": [
       "<Figure size 640x480 with 1 Axes>"
      ]
     },
     "metadata": {},
     "output_type": "display_data"
    }
   ],
   "source": [
    "image = 'images/train/fear/2.jpg'\n",
    "print(\"The original is Fear\")\n",
    "img = img_filepath(image)\n",
    "print(\"Our Model is \",label[model.predict(img).argmax()])\n",
    "plt.imshow(img.reshape(48,48),cmap='gray')"
   ]
  },
  {
   "cell_type": "code",
   "execution_count": 26,
   "id": "cd5ca528-c71f-4782-8179-c831b5fb5056",
   "metadata": {},
   "outputs": [
    {
     "name": "stdout",
     "output_type": "stream",
     "text": [
      "The original is Angry\n",
      "1/1 [==============================] - 0s 14ms/step\n",
      "Our Model is  angry\n"
     ]
    },
    {
     "data": {
      "text/plain": [
       "<matplotlib.image.AxesImage at 0x7f029a5b9cd0>"
      ]
     },
     "execution_count": 26,
     "metadata": {},
     "output_type": "execute_result"
    },
    {
     "data": {
      "image/png": "[encoded data removed]",
      "text/plain": [
       "<Figure size 640x480 with 1 Axes>"
      ]
     },
     "metadata": {},
     "output_type": "display_data"
    }
   ],
   "source": [
    "image = 'images/train/angry/0.jpg'\n",
    "print(\"The original is Angry\")\n",
    "img = img_filepath(image)\n",
    "print(\"Our Model is \",label[model.predict(img).argmax()])\n",
    "plt.imshow(img.reshape(48,48),cmap='gray')"
   ]
  },
  {
   "cell_type": "code",
   "execution_count": 27,
   "id": "5c688334-6f91-45a3-aed6-813808300255",
   "metadata": {},
   "outputs": [
    {
     "name": "stdout",
     "output_type": "stream",
     "text": [
      "The original is Fear\n",
      "1/1 [==============================] - 0s 16ms/step\n",
      "Our Model is  sad\n"
     ]
    },
    {
     "data": {
      "text/plain": [
       "<matplotlib.image.AxesImage at 0x7f029a66e010>"
      ]
     },
     "execution_count": 27,
     "metadata": {},
     "output_type": "execute_result"
    },
    {
     "data": {
      "image/png": "[encoded data removed]",
      "text/plain": [
       "<Figure size 640x480 with 1 Axes>"
      ]
     },
     "metadata": {},
     "output_type": "display_data"
    }
   ],
   "source": [
    "image = 'images/train/fear/121.jpg'\n",
    "print(\"The original is Fear\")\n",
    "img = img_filepath(image)\n",
    "print(\"Our Model is \",label[model.predict(img).argmax()])\n",
    "plt.imshow(img.reshape(48,48),cmap='gray')"
   ]
  },
  {
   "cell_type": "code",
   "execution_count": 28,
   "id": "39e164f4-83da-4157-962e-10e36fd518b1",
   "metadata": {},
   "outputs": [
    {
     "name": "stdout",
     "output_type": "stream",
     "text": [
      "The original is Suprise\n",
      "1/1 [==============================] - 0s 14ms/step\n",
      "Our Model is  surprise\n"
     ]
    },
    {
     "data": {
      "text/plain": [
       "<matplotlib.image.AxesImage at 0x7f029a5a0510>"
      ]
     },
     "execution_count": 28,
     "metadata": {},
     "output_type": "execute_result"
    },
    {
     "data": {
      "image/png": "[encoded data removed]",
      "text/plain": [
       "<Figure size 640x480 with 1 Axes>"
      ]
     },
     "metadata": {},
     "output_type": "display_data"
    }
   ],
   "source": [
    "image = 'images/train/surprise/61.jpg'\n",
    "print(\"The original is Suprise\")\n",
    "img = img_filepath(image)\n",
    "print(\"Our Model is \",label[model.predict(img).argmax()])\n",
    "plt.imshow(img.reshape(48,48),cmap='gray')"
   ]
  }
 ],
 "metadata": {
  "kernelspec": {
   "display_name": "Python 3 (ipykernel)",
   "language": "python",
   "name": "python3"
  },
  "language_info": {
   "codemirror_mode": {
    "name": "ipython",
    "version": 3
   },
   "file_extension": ".py",
   "mimetype": "text/x-python",
   "name": "python",
   "nbconvert_exporter": "python",
   "pygments_lexer": "ipython3",
   "version": "3.11.6"
  }
 },
 "nbformat": 4,
 "nbformat_minor": 5
}
